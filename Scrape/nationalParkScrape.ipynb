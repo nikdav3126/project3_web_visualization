{
 "cells": [
  {
   "cell_type": "code",
   "execution_count": 1,
   "id": "9a6bfcce",
   "metadata": {},
   "outputs": [],
   "source": [
    "# Import Dependencies\n",
    "import pandas as pd\n",
    "import csv\n",
    "import os\n",
    "from splinter import Browser\n",
    "from bs4 import BeautifulSoup\n",
    "from webdriver_manager.chrome import ChromeDriverManager"
   ]
  },
  {
   "cell_type": "code",
   "execution_count": 4,
   "id": "d899c478",
   "metadata": {},
   "outputs": [
    {
     "name": "stderr",
     "output_type": "stream",
     "text": [
      "\n",
      "\n",
      "====== WebDriver manager ======\n",
      "Current google-chrome version is 100.0.4896\n",
      "Get LATEST chromedriver version for 100.0.4896 google-chrome\n",
      "Trying to download new driver from https://chromedriver.storage.googleapis.com/100.0.4896.60/chromedriver_win32.zip\n",
      "Driver has been saved in cache [C:\\Users\\14043\\.wdm\\drivers\\chromedriver\\win32\\100.0.4896.60]\n"
     ]
    }
   ],
   "source": [
    "executable_path = {'executable_path': ChromeDriverManager().install()}\n",
    "browser = Browser('chrome', **executable_path, headless=False)"
   ]
  },
  {
   "cell_type": "code",
   "execution_count": 5,
   "id": "90286bb3",
   "metadata": {},
   "outputs": [],
   "source": [
    "url = 'https://en.wikipedia.org/wiki/List_of_national_parks_of_the_United_States'\n",
    "browser.visit(url)"
   ]
  },
  {
   "cell_type": "code",
   "execution_count": 6,
   "id": "e5dfd0ab",
   "metadata": {},
   "outputs": [],
   "source": [
    "html = browser.html\n",
    "soup = BeautifulSoup(html, 'html.parser')"
   ]
  },
  {
   "cell_type": "code",
   "execution_count": 38,
   "id": "c61bd50f",
   "metadata": {},
   "outputs": [
    {
     "data": {
      "text/plain": [
       "[<thead><tr>\n",
       " <th class=\"headerSort\" role=\"columnheader button\" scope=\"col\" tabindex=\"0\" title=\"Sort ascending\">Name\n",
       " </th>\n",
       " <th class=\"unsortable\" scope=\"col\">Image\n",
       " </th>\n",
       " <th class=\"headerSort\" role=\"columnheader button\" scope=\"col\" tabindex=\"0\" title=\"Sort ascending\">Location\n",
       " </th>\n",
       " <th class=\"headerSort\" role=\"columnheader button\" scope=\"col\" tabindex=\"0\" title=\"Sort ascending\">Date established as park<sup class=\"reference\" id=\"cite_ref-Index2012-2016_7-1\"><a href=\"#cite_note-Index2012-2016-7\">[7]</a></sup><sup class=\"reference\" id=\"cite_ref-12\"><a href=\"#cite_note-12\">[12]</a></sup>\n",
       " </th>\n",
       " <th class=\"headerSort\" role=\"columnheader button\" scope=\"col\" tabindex=\"0\" title=\"Sort ascending\">Area (2021)<sup class=\"reference\" id=\"cite_ref-acreage_report_13-0\"><a href=\"#cite_note-acreage_report-13\">[13]</a></sup>\n",
       " </th>\n",
       " <th class=\"headerSort\" role=\"columnheader button\" scope=\"col\" tabindex=\"0\" title=\"Sort ascending\">Recreation visitors (2021)<sup class=\"reference\" id=\"cite_ref-:0_11-2\"><a href=\"#cite_note-:0-11\">[11]</a></sup>\n",
       " </th>\n",
       " <th class=\"unsortable\" scope=\"col\">Description\n",
       " </th></tr></thead>]"
      ]
     },
     "execution_count": 38,
     "metadata": {},
     "output_type": "execute_result"
    }
   ],
   "source": [
    "beginning = soup.find('table', class_='wikitable sortable plainrowheaders jquery-tablesorter')\n",
    "\n",
    "headers = beginning.find_all('thead')\n",
    "\n",
    "headers\n"
   ]
  },
  {
   "cell_type": "code",
   "execution_count": null,
   "id": "c623c277",
   "metadata": {},
   "outputs": [],
   "source": [
    "    # scrape the article subheader\n",
    "    subheader = result.find('h2', class_='article-item__subheader').text\n",
    "    \n",
    "    # scrape the datetime\n",
    "    datetime = result.find('span', class_='article-item__date')['data-date'] \n",
    "    \n",
    "    # get only the date from the datetime\n",
    "    date = datetime.split('T')[0]\n",
    "    \n",
    "    # print article data\n",
    "    print('-----------------')\n",
    "    print(header)\n",
    "    print(subheader)\n",
    "    print(date)\n",
    "\n",
    "    # Dictionary to be inserted into MongoDB\n",
    "    post = {\n",
    "        'header': header,\n",
    "        'subheader': subheader,\n",
    "        'date': date,\n",
    "    }"
   ]
  },
  {
   "cell_type": "code",
   "execution_count": null,
   "id": "47e77cfe",
   "metadata": {},
   "outputs": [],
   "source": []
  }
 ],
 "metadata": {
  "kernelspec": {
   "display_name": "Python 3",
   "language": "python",
   "name": "python3"
  },
  "language_info": {
   "codemirror_mode": {
    "name": "ipython",
    "version": 3
   },
   "file_extension": ".py",
   "mimetype": "text/x-python",
   "name": "python",
   "nbconvert_exporter": "python",
   "pygments_lexer": "ipython3",
   "version": "3.6.10"
  }
 },
 "nbformat": 4,
 "nbformat_minor": 5
}
