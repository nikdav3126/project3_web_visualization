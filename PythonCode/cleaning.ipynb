{
 "cells": [
  {
   "cell_type": "markdown",
   "metadata": {},
   "source": [
    "## Cleaning the Data"
   ]
  },
  {
   "cell_type": "code",
   "execution_count": 30,
   "metadata": {},
   "outputs": [],
   "source": [
    "import pandas as pd"
   ]
  },
  {
   "cell_type": "markdown",
   "metadata": {},
   "source": [
    "### Cleaning Avg Income and Total Population CSV"
   ]
  },
  {
   "cell_type": "code",
   "execution_count": 31,
   "metadata": {},
   "outputs": [
    {
     "name": "stdout",
     "output_type": "stream",
     "text": [
      "<class 'pandas.core.frame.DataFrame'>\n",
      "RangeIndex: 27658 entries, 0 to 27657\n",
      "Data columns (total 6 columns):\n",
      " #   Column        Non-Null Count  Dtype  \n",
      "---  ------        --------------  -----  \n",
      " 0   state         27658 non-null  object \n",
      " 1   zipcode       27658 non-null  int64  \n",
      " 2   total_pop     27658 non-null  int64  \n",
      " 3   total_income  27658 non-null  int64  \n",
      " 4   country       27658 non-null  object \n",
      " 5   avg_income    27658 non-null  float64\n",
      "dtypes: float64(1), int64(3), object(2)\n",
      "memory usage: 1.3+ MB\n"
     ]
    }
   ],
   "source": [
    "avg_income_df = pd.read_csv(\"../Data/postcode_level_averages.csv\")\n",
    "avg_income_df.info()\n"
   ]
  },
  {
   "cell_type": "code",
   "execution_count": 32,
   "metadata": {},
   "outputs": [
    {
     "data": {
      "text/html": [
       "<div>\n",
       "<style scoped>\n",
       "    .dataframe tbody tr th:only-of-type {\n",
       "        vertical-align: middle;\n",
       "    }\n",
       "\n",
       "    .dataframe tbody tr th {\n",
       "        vertical-align: top;\n",
       "    }\n",
       "\n",
       "    .dataframe thead th {\n",
       "        text-align: right;\n",
       "    }\n",
       "</style>\n",
       "<table border=\"1\" class=\"dataframe\">\n",
       "  <thead>\n",
       "    <tr style=\"text-align: right;\">\n",
       "      <th></th>\n",
       "      <th>state</th>\n",
       "      <th>zipcode</th>\n",
       "      <th>total_pop</th>\n",
       "      <th>total_income</th>\n",
       "      <th>country</th>\n",
       "      <th>avg_income</th>\n",
       "    </tr>\n",
       "  </thead>\n",
       "  <tbody>\n",
       "    <tr>\n",
       "      <th>0</th>\n",
       "      <td>AK</td>\n",
       "      <td>0</td>\n",
       "      <td>345220</td>\n",
       "      <td>25354974</td>\n",
       "      <td>USA</td>\n",
       "      <td>73445.84323</td>\n",
       "    </tr>\n",
       "    <tr>\n",
       "      <th>1</th>\n",
       "      <td>AK</td>\n",
       "      <td>99501</td>\n",
       "      <td>7690</td>\n",
       "      <td>612242</td>\n",
       "      <td>USA</td>\n",
       "      <td>79615.34460</td>\n",
       "    </tr>\n",
       "    <tr>\n",
       "      <th>2</th>\n",
       "      <td>AK</td>\n",
       "      <td>99502</td>\n",
       "      <td>11860</td>\n",
       "      <td>1000685</td>\n",
       "      <td>USA</td>\n",
       "      <td>84374.78921</td>\n",
       "    </tr>\n",
       "    <tr>\n",
       "      <th>3</th>\n",
       "      <td>AK</td>\n",
       "      <td>99503</td>\n",
       "      <td>7510</td>\n",
       "      <td>462394</td>\n",
       "      <td>USA</td>\n",
       "      <td>61570.43941</td>\n",
       "    </tr>\n",
       "    <tr>\n",
       "      <th>4</th>\n",
       "      <td>AK</td>\n",
       "      <td>99504</td>\n",
       "      <td>19440</td>\n",
       "      <td>1176109</td>\n",
       "      <td>USA</td>\n",
       "      <td>60499.43416</td>\n",
       "    </tr>\n",
       "  </tbody>\n",
       "</table>\n",
       "</div>"
      ],
      "text/plain": [
       "  state  zipcode  total_pop  total_income country   avg_income\n",
       "0    AK        0     345220      25354974     USA  73445.84323\n",
       "1    AK    99501       7690        612242     USA  79615.34460\n",
       "2    AK    99502      11860       1000685     USA  84374.78921\n",
       "3    AK    99503       7510        462394     USA  61570.43941\n",
       "4    AK    99504      19440       1176109     USA  60499.43416"
      ]
     },
     "execution_count": 32,
     "metadata": {},
     "output_type": "execute_result"
    }
   ],
   "source": [
    "avg_income_df.head()"
   ]
  },
  {
   "cell_type": "code",
   "execution_count": 33,
   "metadata": {},
   "outputs": [
    {
     "data": {
      "text/plain": [
       "0"
      ]
     },
     "execution_count": 33,
     "metadata": {},
     "output_type": "execute_result"
    }
   ],
   "source": [
    "#checking duplicate row \n",
    "avg_income_df.duplicated().sum()"
   ]
  },
  {
   "cell_type": "code",
   "execution_count": 34,
   "metadata": {},
   "outputs": [
    {
     "data": {
      "text/plain": [
       "state           0\n",
       "zipcode         0\n",
       "total_pop       0\n",
       "total_income    0\n",
       "country         0\n",
       "avg_income      0\n",
       "dtype: int64"
      ]
     },
     "execution_count": 34,
     "metadata": {},
     "output_type": "execute_result"
    }
   ],
   "source": [
    "#checking number of null columns\n",
    "avg_income_df.isna().sum()"
   ]
  },
  {
   "cell_type": "code",
   "execution_count": 35,
   "metadata": {},
   "outputs": [],
   "source": [
    "# Round the avg income to 2 decimals\n",
    "avg_income_df[\"avg_income\"] = avg_income_df[\"avg_income\"].astype(int)\n",
    "#Remove country column and total income columns\n",
    "avg_income_df = avg_income_df[[\"state\", \"zipcode\", \"total_pop\", \"avg_income\"]]"
   ]
  },
  {
   "cell_type": "code",
   "execution_count": 36,
   "metadata": {},
   "outputs": [
    {
     "data": {
      "text/html": [
       "<div>\n",
       "<style scoped>\n",
       "    .dataframe tbody tr th:only-of-type {\n",
       "        vertical-align: middle;\n",
       "    }\n",
       "\n",
       "    .dataframe tbody tr th {\n",
       "        vertical-align: top;\n",
       "    }\n",
       "\n",
       "    .dataframe thead th {\n",
       "        text-align: right;\n",
       "    }\n",
       "</style>\n",
       "<table border=\"1\" class=\"dataframe\">\n",
       "  <thead>\n",
       "    <tr style=\"text-align: right;\">\n",
       "      <th></th>\n",
       "      <th>state</th>\n",
       "      <th>zipcode</th>\n",
       "      <th>total_pop</th>\n",
       "      <th>avg_income</th>\n",
       "    </tr>\n",
       "  </thead>\n",
       "  <tbody>\n",
       "    <tr>\n",
       "      <th>0</th>\n",
       "      <td>AK</td>\n",
       "      <td>0</td>\n",
       "      <td>345220</td>\n",
       "      <td>73445</td>\n",
       "    </tr>\n",
       "    <tr>\n",
       "      <th>1</th>\n",
       "      <td>AK</td>\n",
       "      <td>99501</td>\n",
       "      <td>7690</td>\n",
       "      <td>79615</td>\n",
       "    </tr>\n",
       "    <tr>\n",
       "      <th>2</th>\n",
       "      <td>AK</td>\n",
       "      <td>99502</td>\n",
       "      <td>11860</td>\n",
       "      <td>84374</td>\n",
       "    </tr>\n",
       "    <tr>\n",
       "      <th>3</th>\n",
       "      <td>AK</td>\n",
       "      <td>99503</td>\n",
       "      <td>7510</td>\n",
       "      <td>61570</td>\n",
       "    </tr>\n",
       "    <tr>\n",
       "      <th>4</th>\n",
       "      <td>AK</td>\n",
       "      <td>99504</td>\n",
       "      <td>19440</td>\n",
       "      <td>60499</td>\n",
       "    </tr>\n",
       "  </tbody>\n",
       "</table>\n",
       "</div>"
      ],
      "text/plain": [
       "  state  zipcode  total_pop  avg_income\n",
       "0    AK        0     345220       73445\n",
       "1    AK    99501       7690       79615\n",
       "2    AK    99502      11860       84374\n",
       "3    AK    99503       7510       61570\n",
       "4    AK    99504      19440       60499"
      ]
     },
     "execution_count": 36,
     "metadata": {},
     "output_type": "execute_result"
    }
   ],
   "source": [
    "avg_income_df.head()"
   ]
  },
  {
   "cell_type": "code",
   "execution_count": 37,
   "metadata": {},
   "outputs": [],
   "source": [
    "avg_income_df.set_index(\"zipcode\",inplace=True)"
   ]
  },
  {
   "cell_type": "code",
   "execution_count": 38,
   "metadata": {},
   "outputs": [],
   "source": [
    "avg_income_df.to_csv(\"../cleaned_CSVs/Income_and_population.csv\")"
   ]
  },
  {
   "cell_type": "markdown",
   "metadata": {},
   "source": [
    "### Cleanig of Natural Disasters CSV"
   ]
  },
  {
   "cell_type": "code",
   "execution_count": 39,
   "metadata": {},
   "outputs": [
    {
     "name": "stdout",
     "output_type": "stream",
     "text": [
      "<class 'pandas.core.frame.DataFrame'>\n",
      "RangeIndex: 59392 entries, 0 to 59391\n",
      "Data columns (total 22 columns):\n",
      " #   Column                      Non-Null Count  Dtype \n",
      "---  ------                      --------------  ----- \n",
      " 0   fema_declaration_string     59392 non-null  object\n",
      " 1   disaster_number             59392 non-null  int64 \n",
      " 2   state                       59392 non-null  object\n",
      " 3   declaration_type            59392 non-null  object\n",
      " 4   declaration_date            59392 non-null  object\n",
      " 5   fy_declared                 59392 non-null  int64 \n",
      " 6   incident_type               59392 non-null  object\n",
      " 7   declaration_title           59392 non-null  object\n",
      " 8   ih_program_declared         59392 non-null  int64 \n",
      " 9   ia_program_declared         59392 non-null  int64 \n",
      " 10  pa_program_declared         59392 non-null  int64 \n",
      " 11  hm_program_declared         59392 non-null  int64 \n",
      " 12  incident_begin_date         59392 non-null  object\n",
      " 13  incident_end_date           51226 non-null  object\n",
      " 14  disaster_closeout_date      3080 non-null   object\n",
      " 15  fips                        59392 non-null  int64 \n",
      " 16  place_code                  59392 non-null  int64 \n",
      " 17  designated_area             59392 non-null  object\n",
      " 18  declaration_request_number  59392 non-null  int64 \n",
      " 19  hash                        59318 non-null  object\n",
      " 20  last_refresh                59392 non-null  object\n",
      " 21  id                          59392 non-null  object\n",
      "dtypes: int64(9), object(13)\n",
      "memory usage: 10.0+ MB\n"
     ]
    }
   ],
   "source": [
    "disaster_declarations = pd.read_csv(\"../Data/us_disaster_declarations.csv\")\n",
    "disaster_declarations.info()"
   ]
  },
  {
   "cell_type": "code",
   "execution_count": 40,
   "metadata": {},
   "outputs": [
    {
     "data": {
      "text/html": [
       "<div>\n",
       "<style scoped>\n",
       "    .dataframe tbody tr th:only-of-type {\n",
       "        vertical-align: middle;\n",
       "    }\n",
       "\n",
       "    .dataframe tbody tr th {\n",
       "        vertical-align: top;\n",
       "    }\n",
       "\n",
       "    .dataframe thead th {\n",
       "        text-align: right;\n",
       "    }\n",
       "</style>\n",
       "<table border=\"1\" class=\"dataframe\">\n",
       "  <thead>\n",
       "    <tr style=\"text-align: right;\">\n",
       "      <th></th>\n",
       "      <th>fema_declaration_string</th>\n",
       "      <th>disaster_number</th>\n",
       "      <th>state</th>\n",
       "      <th>declaration_type</th>\n",
       "      <th>declaration_date</th>\n",
       "      <th>fy_declared</th>\n",
       "      <th>incident_type</th>\n",
       "      <th>declaration_title</th>\n",
       "      <th>ih_program_declared</th>\n",
       "      <th>ia_program_declared</th>\n",
       "      <th>...</th>\n",
       "      <th>incident_begin_date</th>\n",
       "      <th>incident_end_date</th>\n",
       "      <th>disaster_closeout_date</th>\n",
       "      <th>fips</th>\n",
       "      <th>place_code</th>\n",
       "      <th>designated_area</th>\n",
       "      <th>declaration_request_number</th>\n",
       "      <th>hash</th>\n",
       "      <th>last_refresh</th>\n",
       "      <th>id</th>\n",
       "    </tr>\n",
       "  </thead>\n",
       "  <tbody>\n",
       "    <tr>\n",
       "      <th>0</th>\n",
       "      <td>DR-1-GA</td>\n",
       "      <td>1</td>\n",
       "      <td>GA</td>\n",
       "      <td>DR</td>\n",
       "      <td>1953-05-02T04:00:00Z</td>\n",
       "      <td>1953</td>\n",
       "      <td>Tornado</td>\n",
       "      <td>Tornado</td>\n",
       "      <td>0</td>\n",
       "      <td>1</td>\n",
       "      <td>...</td>\n",
       "      <td>1953-05-02T04:00:00Z</td>\n",
       "      <td>1953-05-02T04:00:00Z</td>\n",
       "      <td>NaN</td>\n",
       "      <td>13000</td>\n",
       "      <td>0</td>\n",
       "      <td>Statewide</td>\n",
       "      <td>53013</td>\n",
       "      <td>2f28952448e0a666d367ca3f854c81ec</td>\n",
       "      <td>2019-07-26T18:49:32Z</td>\n",
       "      <td>5d1bceafd5b39c032f2602bf</td>\n",
       "    </tr>\n",
       "    <tr>\n",
       "      <th>1</th>\n",
       "      <td>DR-2-TX</td>\n",
       "      <td>2</td>\n",
       "      <td>TX</td>\n",
       "      <td>DR</td>\n",
       "      <td>1953-05-15T04:00:00Z</td>\n",
       "      <td>1953</td>\n",
       "      <td>Tornado</td>\n",
       "      <td>Tornado &amp; Heavy Rainfall</td>\n",
       "      <td>0</td>\n",
       "      <td>1</td>\n",
       "      <td>...</td>\n",
       "      <td>1953-05-15T04:00:00Z</td>\n",
       "      <td>1953-05-15T04:00:00Z</td>\n",
       "      <td>NaN</td>\n",
       "      <td>48000</td>\n",
       "      <td>0</td>\n",
       "      <td>Statewide</td>\n",
       "      <td>53003</td>\n",
       "      <td>c5a1a4a1030d6730d9c562cdbe7c830f</td>\n",
       "      <td>2019-07-26T18:49:32Z</td>\n",
       "      <td>5d1bceafd5b39c032f2602c3</td>\n",
       "    </tr>\n",
       "    <tr>\n",
       "      <th>2</th>\n",
       "      <td>DR-3-LA</td>\n",
       "      <td>3</td>\n",
       "      <td>LA</td>\n",
       "      <td>DR</td>\n",
       "      <td>1953-05-29T04:00:00Z</td>\n",
       "      <td>1953</td>\n",
       "      <td>Flood</td>\n",
       "      <td>Flood</td>\n",
       "      <td>0</td>\n",
       "      <td>1</td>\n",
       "      <td>...</td>\n",
       "      <td>1953-05-29T04:00:00Z</td>\n",
       "      <td>1953-05-29T04:00:00Z</td>\n",
       "      <td>NaN</td>\n",
       "      <td>22000</td>\n",
       "      <td>0</td>\n",
       "      <td>Statewide</td>\n",
       "      <td>53005</td>\n",
       "      <td>745948932fd77a7c6dcd4de7059ff080</td>\n",
       "      <td>2019-07-26T18:49:32Z</td>\n",
       "      <td>5d1bceafd5b39c032f2602c1</td>\n",
       "    </tr>\n",
       "    <tr>\n",
       "      <th>3</th>\n",
       "      <td>DR-4-MI</td>\n",
       "      <td>4</td>\n",
       "      <td>MI</td>\n",
       "      <td>DR</td>\n",
       "      <td>1953-06-02T04:00:00Z</td>\n",
       "      <td>1953</td>\n",
       "      <td>Tornado</td>\n",
       "      <td>Tornado</td>\n",
       "      <td>0</td>\n",
       "      <td>1</td>\n",
       "      <td>...</td>\n",
       "      <td>1953-06-02T04:00:00Z</td>\n",
       "      <td>1953-06-02T04:00:00Z</td>\n",
       "      <td>NaN</td>\n",
       "      <td>26000</td>\n",
       "      <td>0</td>\n",
       "      <td>Statewide</td>\n",
       "      <td>53004</td>\n",
       "      <td>8c9dee13124e36a9dfe2eb74e33fafad</td>\n",
       "      <td>2019-07-26T18:49:32Z</td>\n",
       "      <td>5d1bceafd5b39c032f2602c0</td>\n",
       "    </tr>\n",
       "    <tr>\n",
       "      <th>4</th>\n",
       "      <td>DR-5-MT</td>\n",
       "      <td>5</td>\n",
       "      <td>MT</td>\n",
       "      <td>DR</td>\n",
       "      <td>1953-06-06T04:00:00Z</td>\n",
       "      <td>1953</td>\n",
       "      <td>Flood</td>\n",
       "      <td>Floods</td>\n",
       "      <td>0</td>\n",
       "      <td>1</td>\n",
       "      <td>...</td>\n",
       "      <td>1953-06-06T04:00:00Z</td>\n",
       "      <td>1953-06-06T04:00:00Z</td>\n",
       "      <td>NaN</td>\n",
       "      <td>30000</td>\n",
       "      <td>0</td>\n",
       "      <td>Statewide</td>\n",
       "      <td>53006</td>\n",
       "      <td>59c5483387ca13c6a3c1bc692f4860e1</td>\n",
       "      <td>2019-07-26T18:49:32Z</td>\n",
       "      <td>5d1bceafd5b39c032f2602c7</td>\n",
       "    </tr>\n",
       "  </tbody>\n",
       "</table>\n",
       "<p>5 rows × 22 columns</p>\n",
       "</div>"
      ],
      "text/plain": [
       "  fema_declaration_string  disaster_number state declaration_type  \\\n",
       "0                 DR-1-GA                1    GA               DR   \n",
       "1                 DR-2-TX                2    TX               DR   \n",
       "2                 DR-3-LA                3    LA               DR   \n",
       "3                 DR-4-MI                4    MI               DR   \n",
       "4                 DR-5-MT                5    MT               DR   \n",
       "\n",
       "       declaration_date  fy_declared incident_type         declaration_title  \\\n",
       "0  1953-05-02T04:00:00Z         1953       Tornado                   Tornado   \n",
       "1  1953-05-15T04:00:00Z         1953       Tornado  Tornado & Heavy Rainfall   \n",
       "2  1953-05-29T04:00:00Z         1953         Flood                     Flood   \n",
       "3  1953-06-02T04:00:00Z         1953       Tornado                   Tornado   \n",
       "4  1953-06-06T04:00:00Z         1953         Flood                    Floods   \n",
       "\n",
       "   ih_program_declared  ia_program_declared  ...   incident_begin_date  \\\n",
       "0                    0                    1  ...  1953-05-02T04:00:00Z   \n",
       "1                    0                    1  ...  1953-05-15T04:00:00Z   \n",
       "2                    0                    1  ...  1953-05-29T04:00:00Z   \n",
       "3                    0                    1  ...  1953-06-02T04:00:00Z   \n",
       "4                    0                    1  ...  1953-06-06T04:00:00Z   \n",
       "\n",
       "      incident_end_date disaster_closeout_date   fips place_code  \\\n",
       "0  1953-05-02T04:00:00Z                    NaN  13000          0   \n",
       "1  1953-05-15T04:00:00Z                    NaN  48000          0   \n",
       "2  1953-05-29T04:00:00Z                    NaN  22000          0   \n",
       "3  1953-06-02T04:00:00Z                    NaN  26000          0   \n",
       "4  1953-06-06T04:00:00Z                    NaN  30000          0   \n",
       "\n",
       "   designated_area  declaration_request_number  \\\n",
       "0        Statewide                       53013   \n",
       "1        Statewide                       53003   \n",
       "2        Statewide                       53005   \n",
       "3        Statewide                       53004   \n",
       "4        Statewide                       53006   \n",
       "\n",
       "                               hash          last_refresh  \\\n",
       "0  2f28952448e0a666d367ca3f854c81ec  2019-07-26T18:49:32Z   \n",
       "1  c5a1a4a1030d6730d9c562cdbe7c830f  2019-07-26T18:49:32Z   \n",
       "2  745948932fd77a7c6dcd4de7059ff080  2019-07-26T18:49:32Z   \n",
       "3  8c9dee13124e36a9dfe2eb74e33fafad  2019-07-26T18:49:32Z   \n",
       "4  59c5483387ca13c6a3c1bc692f4860e1  2019-07-26T18:49:32Z   \n",
       "\n",
       "                         id  \n",
       "0  5d1bceafd5b39c032f2602bf  \n",
       "1  5d1bceafd5b39c032f2602c3  \n",
       "2  5d1bceafd5b39c032f2602c1  \n",
       "3  5d1bceafd5b39c032f2602c0  \n",
       "4  5d1bceafd5b39c032f2602c7  \n",
       "\n",
       "[5 rows x 22 columns]"
      ]
     },
     "execution_count": 40,
     "metadata": {},
     "output_type": "execute_result"
    }
   ],
   "source": [
    "disaster_declarations.head()"
   ]
  },
  {
   "cell_type": "code",
   "execution_count": 41,
   "metadata": {},
   "outputs": [
    {
     "data": {
      "text/plain": [
       "0"
      ]
     },
     "execution_count": 41,
     "metadata": {},
     "output_type": "execute_result"
    }
   ],
   "source": [
    "#checking duplicate row \n",
    "disaster_declarations.duplicated().sum()"
   ]
  },
  {
   "cell_type": "code",
   "execution_count": 42,
   "metadata": {},
   "outputs": [
    {
     "data": {
      "text/plain": [
       "fema_declaration_string           0\n",
       "disaster_number                   0\n",
       "state                             0\n",
       "declaration_type                  0\n",
       "declaration_date                  0\n",
       "fy_declared                       0\n",
       "incident_type                     0\n",
       "declaration_title                 0\n",
       "ih_program_declared               0\n",
       "ia_program_declared               0\n",
       "pa_program_declared               0\n",
       "hm_program_declared               0\n",
       "incident_begin_date               0\n",
       "incident_end_date              8166\n",
       "disaster_closeout_date        56312\n",
       "fips                              0\n",
       "place_code                        0\n",
       "designated_area                   0\n",
       "declaration_request_number        0\n",
       "hash                             74\n",
       "last_refresh                      0\n",
       "id                                0\n",
       "dtype: int64"
      ]
     },
     "execution_count": 42,
     "metadata": {},
     "output_type": "execute_result"
    }
   ],
   "source": [
    "#checking number of null columns\n",
    "disaster_declarations.isna().sum()"
   ]
  },
  {
   "cell_type": "code",
   "execution_count": 43,
   "metadata": {},
   "outputs": [
    {
     "data": {
      "text/html": [
       "<div>\n",
       "<style scoped>\n",
       "    .dataframe tbody tr th:only-of-type {\n",
       "        vertical-align: middle;\n",
       "    }\n",
       "\n",
       "    .dataframe tbody tr th {\n",
       "        vertical-align: top;\n",
       "    }\n",
       "\n",
       "    .dataframe thead th {\n",
       "        text-align: right;\n",
       "    }\n",
       "</style>\n",
       "<table border=\"1\" class=\"dataframe\">\n",
       "  <thead>\n",
       "    <tr style=\"text-align: right;\">\n",
       "      <th></th>\n",
       "      <th>declaration_title</th>\n",
       "      <th>declaration_type</th>\n",
       "      <th>fy_declared</th>\n",
       "    </tr>\n",
       "    <tr>\n",
       "      <th>state</th>\n",
       "      <th></th>\n",
       "      <th></th>\n",
       "      <th></th>\n",
       "    </tr>\n",
       "  </thead>\n",
       "  <tbody>\n",
       "    <tr>\n",
       "      <th>GA</th>\n",
       "      <td>Tornado</td>\n",
       "      <td>DR</td>\n",
       "      <td>1953</td>\n",
       "    </tr>\n",
       "    <tr>\n",
       "      <th>TX</th>\n",
       "      <td>Tornado &amp; Heavy Rainfall</td>\n",
       "      <td>DR</td>\n",
       "      <td>1953</td>\n",
       "    </tr>\n",
       "    <tr>\n",
       "      <th>LA</th>\n",
       "      <td>Flood</td>\n",
       "      <td>DR</td>\n",
       "      <td>1953</td>\n",
       "    </tr>\n",
       "    <tr>\n",
       "      <th>MI</th>\n",
       "      <td>Tornado</td>\n",
       "      <td>DR</td>\n",
       "      <td>1953</td>\n",
       "    </tr>\n",
       "    <tr>\n",
       "      <th>MT</th>\n",
       "      <td>Floods</td>\n",
       "      <td>DR</td>\n",
       "      <td>1953</td>\n",
       "    </tr>\n",
       "  </tbody>\n",
       "</table>\n",
       "</div>"
      ],
      "text/plain": [
       "              declaration_title declaration_type  fy_declared\n",
       "state                                                        \n",
       "GA                      Tornado               DR         1953\n",
       "TX     Tornado & Heavy Rainfall               DR         1953\n",
       "LA                        Flood               DR         1953\n",
       "MI                      Tornado               DR         1953\n",
       "MT                       Floods               DR         1953"
      ]
     },
     "execution_count": 43,
     "metadata": {},
     "output_type": "execute_result"
    }
   ],
   "source": [
    "#remove unecessary columns\n",
    "disaster_declarations = disaster_declarations[[\"state\",\"declaration_title\",\"declaration_type\",\"fy_declared\"]]\n",
    "disaster_declarations.set_index(\"state\",inplace=True)\n",
    "disaster_declarations.head()\n",
    "#declaration type meaning\n",
    "# \"DR\" (= major disaster)\n",
    "# \"EM\" (= emergency management)\n",
    "# \"FM\" (= \"fire management\")"
   ]
  },
  {
   "cell_type": "code",
   "execution_count": 44,
   "metadata": {},
   "outputs": [],
   "source": [
    "# Output in a csv\n",
    "disaster_declarations.to_csv(\"../cleaned_CSVs/natural_disasters.csv\")"
   ]
  }
 ],
 "metadata": {
  "interpreter": {
   "hash": "dde03cc7e2af383304b2934677bf03356e33ed3214b6c3800653247b541b2cbe"
  },
  "kernelspec": {
   "display_name": "Python 3.9.7 ('base')",
   "language": "python",
   "name": "python3"
  },
  "language_info": {
   "codemirror_mode": {
    "name": "ipython",
    "version": 3
   },
   "file_extension": ".py",
   "mimetype": "text/x-python",
   "name": "python",
   "nbconvert_exporter": "python",
   "pygments_lexer": "ipython3",
   "version": "3.6.10"
  },
  "orig_nbformat": 4
 },
 "nbformat": 4,
 "nbformat_minor": 2
}
